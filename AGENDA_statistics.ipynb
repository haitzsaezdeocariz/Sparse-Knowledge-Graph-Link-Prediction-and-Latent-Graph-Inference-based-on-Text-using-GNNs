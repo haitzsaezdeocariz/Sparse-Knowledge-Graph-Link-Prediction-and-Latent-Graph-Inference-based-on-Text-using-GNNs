{
  "nbformat": 4,
  "nbformat_minor": 0,
  "metadata": {
    "colab": {
      "name": "AGENDA_statistics.ipynb",
      "provenance": []
    },
    "kernelspec": {
      "name": "python3",
      "display_name": "Python 3"
    },
    "language_info": {
      "name": "python"
    }
  },
  "cells": [
    {
      "cell_type": "markdown",
      "source": [
        "<h1> Import Data"
      ],
      "metadata": {
        "id": "nVtWig5h-fSz"
      }
    },
    {
      "cell_type": "code",
      "execution_count": null,
      "metadata": {
        "colab": {
          "base_uri": "https://localhost:8080/"
        },
        "id": "rZNiCHTd9hlc",
        "outputId": "6caf53fc-7ab1-48a7-a5da-9dec0fa01681"
      },
      "outputs": [
        {
          "output_type": "stream",
          "name": "stdout",
          "text": [
            "fatal: destination path 'kg_data' already exists and is not an empty directory.\n"
          ]
        }
      ],
      "source": [
        "!git clone https://github.com/haitzsaezdeocariz/kg_data.git"
      ]
    },
    {
      "cell_type": "code",
      "source": [
        "!unzip kg_data/preprocessed_data.zip"
      ],
      "metadata": {
        "colab": {
          "base_uri": "https://localhost:8080/"
        },
        "id": "hR84-35X9oTj",
        "outputId": "68fd1b64-4372-4261-8093-1b1962cf22d3"
      },
      "execution_count": null,
      "outputs": [
        {
          "output_type": "stream",
          "name": "stdout",
          "text": [
            "Archive:  kg_data/preprocessed_data.zip\n",
            "  inflating: preprocessed.test.tsv   \n",
            "  inflating: preprocessed.train.tsv  \n",
            "  inflating: preprocessed.val.tsv    \n"
          ]
        }
      ]
    },
    {
      "cell_type": "code",
      "source": [
        "import csv\n",
        "tsv_file_train = open(\"preprocessed.train.tsv\")\n",
        "read_tsv_train = csv.reader(tsv_file_train, delimiter=\"\\t\")\n",
        "\n",
        "tsv_file_test = open(\"preprocessed.test.tsv\")\n",
        "read_tsv_test = csv.reader(tsv_file_test, delimiter=\"\\t\")\n",
        "\n",
        "tsv_file_val = open(\"preprocessed.val.tsv\")\n",
        "read_tsv_val = csv.reader(tsv_file_val, delimiter=\"\\t\")\n",
        "\n",
        "title, entities, entity_type, graph, target, ordering = [],[],[],[],[],[]\n",
        "for row in read_tsv_train:\n",
        "  title.append(row[0])\n",
        "  entities.append(row[1])\n",
        "  entity_type.append(row[2])\n",
        "  graph.append(row[3])\n",
        "  target.append(row[4])\n",
        "  ordering.append(row[5])\n",
        "\n",
        "for row in read_tsv_test:\n",
        "  title.append(row[0])\n",
        "  entities.append(row[1])\n",
        "  entity_type.append(row[2])\n",
        "  graph.append(row[3])\n",
        "  target.append(row[4])\n",
        "  ordering.append(row[5])\n",
        "\n",
        "for row in read_tsv_val:\n",
        "  title.append(row[0])\n",
        "  entities.append(row[1])\n",
        "  entity_type.append(row[2])\n",
        "  graph.append(row[3])\n",
        "  target.append(row[4])\n",
        "  ordering.append(row[5])"
      ],
      "metadata": {
        "id": "KNmD90lr9p32"
      },
      "execution_count": null,
      "outputs": []
    },
    {
      "cell_type": "code",
      "source": [
        "import re"
      ],
      "metadata": {
        "id": "02ohzn_H-DIx"
      },
      "execution_count": null,
      "outputs": []
    },
    {
      "cell_type": "code",
      "source": [
        "number_of_nodes = 0\n",
        "number_of_connections=0\n",
        "number_of_possible_connections=0\n",
        "ratio_number_of_connections_to_number_of_possible_connections=0\n",
        "ratio_no_link_to_link = 0\n",
        "maxoutdegree = 0\n",
        "maxindegree = 0\n",
        "isolated = 0\n",
        "class_1_connections=0\n",
        "class_2_connections=0\n",
        "class_3_connections=0\n",
        "class_4_connections=0\n",
        "class_5_connections=0\n",
        "class_6_connections=0\n",
        "class_7_connections=0\n",
        "graph_with_less_than_1_connections=0\n",
        "graph_with_less_than_2_connections=0\n",
        "graph_with_less_than_3_connections=0\n",
        "graph_with_less_than_5_connections=0\n",
        "graph_with_less_than_10_connections=0\n",
        "graph_with_less_than_15_connections=0\n",
        "graph_with_less_than_20_connections=0\n",
        "index_for_connected_graphs_greater_than_20=[]\n",
        "index_for_connected_graphs_greater_than_5=[]\n",
        "index_for_connected_graphs_greater_than_10=[]\n",
        "\n",
        "for i in range(len(title)):\n",
        "  #Get Total Number of Nodes\n",
        "  number_of_nodes += len(re.split(';',entities[i]))\n",
        "  #Get Total Number of Connections\n",
        "  number_of_connections += len(re.split(';',graph[i]))\n",
        "  #Get Total Number of Possible Connections\n",
        "  number_of_possible_connections += len(re.split(';',entities[i]))**2\n",
        "  #Get Ratio of Connections/Possible Connections\n",
        "  ratio_number_of_connections_to_number_of_possible_connections += number_of_connections/number_of_possible_connections\n",
        "  #Get Ratio No Link/Link\n",
        "  ratio_no_link_to_link += (number_of_possible_connections-number_of_connections)/number_of_connections\n",
        "\n",
        "  #Get max outdegree and max indegree for nodes in the directed graph\n",
        "  graph_row=re.split(';',graph[i])\n",
        "  graph_vertex_out=[] \n",
        "  graph_vertex_in=[] \n",
        "  for entries in range(len(graph_row)):\n",
        "    graph_vertex_out.append(int(graph_row[entries].split()[0]))\n",
        "    graph_vertex_in.append(int(graph_row[entries].split()[-1]))\n",
        "    #Get number of link classes\n",
        "    if int(graph_row[entries].split()[1]) == 0:\n",
        "      class_1_connections+=1\n",
        "    elif int(graph_row[entries].split()[1]) == 1:\n",
        "      class_2_connections+=1\n",
        "    elif int(graph_row[entries].split()[1]) == 2:\n",
        "      class_3_connections+=1\n",
        "    elif int(graph_row[entries].split()[1]) == 3:\n",
        "      class_4_connections+=1\n",
        "    elif int(graph_row[entries].split()[1]) == 4:\n",
        "      class_5_connections+=1\n",
        "    elif int(graph_row[entries].split()[1]) == 5:\n",
        "      class_6_connections+=1\n",
        "    elif int(graph_row[entries].split()[1]) == 6:\n",
        "      class_7_connections+=1\n",
        "      \n",
        "  c_out = Counter(graph_vertex_out)\n",
        "  maxoutdegree += c_out.most_common(1)[0][-1]\n",
        "  c_in = Counter(graph_vertex_in)\n",
        "  maxindegree += c_in.most_common(1)[0][-1]\n",
        "\n",
        "\n",
        "  #Get number of isolated nodes per graph\n",
        "  for node in range(len(re.split(';',entities[i]))):\n",
        "    if node not in graph_vertex_out and node not in graph_vertex_in:\n",
        "      isolated +=1\n",
        "  #Get number of graphs with less than x link\n",
        "  if len(graph_row)<1:\n",
        "    graph_with_less_than_1_connections+=1\n",
        "  if len(graph_row)<2:\n",
        "    graph_with_less_than_2_connections+=1\n",
        "  if len(graph_row)<3:\n",
        "    graph_with_less_than_3_connections+=1\n",
        "  if len(graph_row)<5:\n",
        "    graph_with_less_than_5_connections+=1\n",
        "  if len(graph_row)<10:\n",
        "    graph_with_less_than_10_connections+=1\n",
        "  if len(graph_row)<15:\n",
        "    graph_with_less_than_15_connections+=1\n",
        "  if len(graph_row)<20:\n",
        "    graph_with_less_than_20_connections+=1\n",
        "  if len(graph_row)>20:\n",
        "    index_for_connected_graphs_greater_than_20.append(i)\n",
        "  if len(graph_row)>10:\n",
        "    index_for_connected_graphs_greater_than_10.append(i)\n",
        "  if len(graph_row)>5:\n",
        "    index_for_connected_graphs_greater_than_5.append(i)\n",
        "\n",
        "\n",
        "  \n",
        "\n",
        "print('Average Number of nodes per graph',number_of_nodes/len(title))\n",
        "print('Average Number of connections per graph',number_of_connections/len(title))\n",
        "print('Average Number of possible connections per graph',number_of_possible_connections/len(title))\n",
        "print('Average Graph Connectivity Percentage as compared to Fully-Connected',100*ratio_number_of_connections_to_number_of_possible_connections/len(title),'%')\n",
        "print('Average No Link/Link Ratio',ratio_no_link_to_link/len(title))\n",
        "print('Average Max outdegree',maxoutdegree/len(title))\n",
        "print('Average Max indegree',maxindegree/len(title))\n",
        "print('Average Number of Isolated Nodes per Graph',isolated/len(title))\n",
        "print('Average Class 1 Links',class_1_connections/len(title))\n",
        "print('Average Class 2 Links',class_2_connections/len(title))\n",
        "print('Average Class 3 Links',class_3_connections/len(title))\n",
        "print('Average Class 4 Links',class_4_connections/len(title))\n",
        "print('Average Class 5 Links',class_5_connections/len(title))\n",
        "print('Average Class 6 Links',class_6_connections/len(title))\n",
        "print('Average Class 7 Links',class_7_connections/len(title))\n",
        "print('Percentage of Graphs with no links',100*graph_with_less_than_1_connections/len(title),'%')\n",
        "print('Percentage of Graphs with 1 link',100*graph_with_less_than_2_connections/len(title),'%')\n",
        "print('Percentage of Graphs with less than 3 links',100*graph_with_less_than_3_connections/len(title),'%')\n",
        "print('Percentage of Graphs with less than 5 links',100*graph_with_less_than_5_connections/len(title),'%')\n",
        "print('Percentage of Graphs with less than 10 links',100*graph_with_less_than_10_connections/len(title),'%')\n",
        "print('Percentage of Graphs with less than 15 links',100*graph_with_less_than_15_connections/len(title),'%')\n",
        "print('Percentage of Graphs with less than 20 links',100*graph_with_less_than_20_connections/len(title),'%')"
      ],
      "metadata": {
        "colab": {
          "base_uri": "https://localhost:8080/"
        },
        "id": "yPZM-mOd-h3d",
        "outputId": "e36f9dbc-1455-4334-cdba-66097b12b8df"
      },
      "execution_count": null,
      "outputs": [
        {
          "output_type": "stream",
          "name": "stdout",
          "text": [
            "Average Number of nodes per graph 12.420137524557957\n",
            "Average Number of connections per graph 4.435240667976425\n",
            "Average Number of possible connections per graph 171.33664047151277\n",
            "Average Graph Connectivity Percentage as compared to Fully-Connected 2.5853397732502867 %\n",
            "Average No Link/Link Ratio 37.68140909586311\n",
            "Average Max outdegree 1.6056237721021611\n",
            "Average Max indegree 1.6333251473477406\n",
            "Average Number of Isolated Nodes per Graph 6.2604616895874265\n",
            "Average Class 1 Links 2.531114931237721\n",
            "Average Class 2 Links 0.8739685658153241\n",
            "Average Class 3 Links 0.15206286836935168\n",
            "Average Class 4 Links 0.10255402750491159\n",
            "Average Class 5 Links 0.1642436149312377\n",
            "Average Class 6 Links 0.2782907662082515\n",
            "Average Class 7 Links 0.3330058939096267\n",
            "Percentage of Graphs with no links 0.0 %\n",
            "Percentage of Graphs with 1 link 15.137524557956779 %\n",
            "Percentage of Graphs with less than 3 links 31.8713163064833 %\n",
            "Percentage of Graphs with less than 5 links 60.297151277013754 %\n",
            "Percentage of Graphs with less than 10 links 93.03045186640472 %\n",
            "Percentage of Graphs with less than 15 links 98.94891944990177 %\n",
            "Percentage of Graphs with less than 20 links 99.76178781925344 %\n"
          ]
        }
      ]
    }
  ]
}